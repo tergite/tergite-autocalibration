{
 "cells": [
  {
   "cell_type": "markdown",
   "metadata": {},
   "source": [
    "# Mixer correction"
   ]
  },
  {
   "cell_type": "markdown",
   "metadata": {},
   "source": [
    "Setup\n",
    "-----\n",
    "\n",
    "First, we are going to import the required packages."
   ]
  },
  {
   "cell_type": "code",
   "execution_count": 3,
   "metadata": {
    "tags": []
   },
   "outputs": [
    {
     "data": {
      "text/html": [
       "<style>.container { width:100% !important; }</style>"
      ],
      "text/plain": [
       "<IPython.core.display.HTML object>"
      ]
     },
     "metadata": {},
     "output_type": "display_data"
    }
   ],
   "source": [
    "# Import ipython widgets\n",
    "import json\n",
    "import math\n",
    "import os\n",
    "\n",
    "import ipywidgets as widgets\n",
    "import matplotlib.pyplot\n",
    "import numpy as np\n",
    "import rich\n",
    "import pandas as pd\n",
    "\n",
    "# Set up the environment.\n",
    "import scipy.signal\n",
    "from IPython.display import display\n",
    "from ipywidgets import fixed, interact, interact_manual, interactive\n",
    "\n",
    "from qblox_instruments import Cluster, PlugAndPlay\n",
    "# Set notebook width to 100%\n",
    "from IPython.display import display, HTML\n",
    "display(HTML(\"<style>.container { width:100% !important; }</style>\"))"
   ]
  },
  {
   "cell_type": "code",
   "execution_count": 4,
   "metadata": {
    "tags": []
   },
   "outputs": [
    {
     "data": {
      "text/html": [
       "<div>\n",
       "<style scoped>\n",
       "    .dataframe tbody tr th:only-of-type {\n",
       "        vertical-align: middle;\n",
       "    }\n",
       "\n",
       "    .dataframe tbody tr th {\n",
       "        vertical-align: top;\n",
       "    }\n",
       "\n",
       "    .dataframe thead th {\n",
       "        text-align: right;\n",
       "    }\n",
       "</style>\n",
       "<table border=\"1\" class=\"dataframe\">\n",
       "  <thead>\n",
       "    <tr style=\"text-align: right;\">\n",
       "      <th></th>\n",
       "      <th>module</th>\n",
       "      <th>complex_output</th>\n",
       "      <th>sequencer index</th>\n",
       "      <th>lo_freq (Hz)</th>\n",
       "      <th>if (Hz)</th>\n",
       "      <th>dc_mixer_offset_I</th>\n",
       "      <th>dc_mixer_offset_Q</th>\n",
       "      <th>mixer_amp_ratio</th>\n",
       "      <th>mixer_phase_error_deg</th>\n",
       "    </tr>\n",
       "  </thead>\n",
       "  <tbody>\n",
       "  </tbody>\n",
       "</table>\n",
       "</div>"
      ],
      "text/plain": [
       "Empty DataFrame\n",
       "Columns: [module, complex_output, sequencer index, lo_freq (Hz), if (Hz), dc_mixer_offset_I, dc_mixer_offset_Q, mixer_amp_ratio, mixer_phase_error_deg]\n",
       "Index: []"
      ]
     },
     "execution_count": 4,
     "metadata": {},
     "output_type": "execute_result"
    }
   ],
   "source": [
    "# This is the table that we want to populate\n",
    "calibration = pd.DataFrame()\n",
    "calibration[\"module\"]  = []\n",
    "calibration[\"complex_output\"] = []\n",
    "calibration[\"sequencer index\"] = []\n",
    "calibration[\"lo_freq (Hz)\"] = []\n",
    "calibration[\"if (Hz)\"] = []\n",
    "calibration[\"dc_mixer_offset_I\"] = []\n",
    "calibration[\"dc_mixer_offset_Q\"] = []\n",
    "calibration[\"mixer_amp_ratio\"] = []\n",
    "calibration[\"mixer_phase_error_deg\"] = []\n",
    "calibration"
   ]
  },
  {
   "cell_type": "markdown",
   "metadata": {},
   "source": [
    "## Create Q1ASM program to play on the device"
   ]
  },
  {
   "cell_type": "code",
   "execution_count": 5,
   "metadata": {
    "tags": []
   },
   "outputs": [],
   "source": [
    "#Waveform dictionary (data will hold the samples and index will be used to select the waveforms in the instrument).\n",
    "waveforms = {\n",
    "             \"I\":     {\"data\": [], \"index\": 0},\n",
    "             \"Q\":     {\"data\": [], \"index\": 1}\n",
    "            }\n",
    "\n",
    "I_amplitude = 0.2\n",
    "waveforms[\"I\"][\"data\"] = [I_amplitude]*8000\n",
    "waveforms[\"Q\"][\"data\"] = [0.0]*8000\n",
    "\n",
    "#Sequence program.\n",
    "prog = f\"start: set_mrk 15 \\n play 0,1,1000\\n set_mrk 15 \\n play 0,1,1000\\njmp @start\"\n",
    "\n",
    "#Sequence program which stops.\n",
    "# prog = \"\"\"\n",
    "#         move 1250000, R0\n",
    "#         set_mrk    15\n",
    "# start:\n",
    "#         reset_ph\n",
    "#         upd_param  4\n",
    "#         play       0,1,4\n",
    "#         wait       7996\n",
    "#         loop       R0,@start\n",
    "#         set_mrk    0\n",
    "#         upd_param  4\n",
    "#         stop\n",
    "# \"\"\"\n",
    "\n",
    "#Reformat waveforms to lists if necessary.\n",
    "for name in waveforms:\n",
    "    if str(type(waveforms[name][\"data\"]).__name__) == \"ndarray\":\n",
    "        waveforms[name][\"data\"] = waveforms[name][\"data\"].tolist()  # JSON only supports lists\n",
    "\n",
    "#Add sequence program and waveforms to single dictionary and write to JSON file.\n",
    "wave_and_prog_dict = {\"waveforms\": waveforms, \"weights\": {}, \"acquisitions\": {}, \"program\": prog}\n",
    "with open(\"sequence.json\", 'w', encoding='utf-8') as file:\n",
    "    json.dump(wave_and_prog_dict, file, indent=4)\n",
    "    file.close()"
   ]
  },
  {
   "cell_type": "markdown",
   "metadata": {},
   "source": [
    "## Select Device\n",
    "\n",
    "We scan for the available devices connected via ethernet using the Plug & Play functionality of the Qblox Instruments package (see [Plug & Play](https://qblox-qblox-instruments.readthedocs-hosted.com/en/master/api_reference/pnp.html) for more info)."
   ]
  },
  {
   "cell_type": "code",
   "execution_count": 6,
   "metadata": {
    "tags": []
   },
   "outputs": [
    {
     "data": {
      "application/vnd.jupyter.widget-view+json": {
       "model_id": "b80857b2380f429380779d3e085d889b",
       "version_major": 2,
       "version_minor": 0
      },
      "text/plain": [
       "Dropdown(description='Select Device', options=('192.0.2.72', '192.0.2.142', '192.0.2.143', '192.0.2.141'), val…"
      ]
     },
     "metadata": {},
     "output_type": "display_data"
    }
   ],
   "source": [
    "# Scan for available devices and display\n",
    "with PlugAndPlay() as p:\n",
    "    # get info of all devices\n",
    "    device_list = p.list_devices()\n",
    "    device_keys = list(device_list.keys())\n",
    "\n",
    "# rich.print(device_list)\n",
    "# create widget for names and ip addresses\n",
    "connect = widgets.Dropdown(\n",
    "    options=[(device_list[key][\"identity\"][\"ip\"]) for key in device_list.keys()],\n",
    "    description=\"Select Device\",\n",
    ")\n",
    "display(connect)"
   ]
  },
  {
   "cell_type": "code",
   "execution_count": 7,
   "metadata": {
    "tags": []
   },
   "outputs": [
    {
     "name": "stdout",
     "output_type": "stream",
     "text": [
      "loki_cluster connected at 192.0.2.141\n"
     ]
    }
   ],
   "source": [
    "# close all previous connections to the cluster\n",
    "Cluster.close_all()\n",
    "\n",
    "#device_name = \"pingu_cluster\"\n",
    "cluster_name = \"loki_cluster\"\n",
    "# ip_address = connect.v./alue\n",
    "ip_address = '192.0.2.141'\n",
    "# ip_address = '192.0.2.142'\n",
    "# connect to the cluster and reset\n",
    "cluster = Cluster(cluster_name, ip_address)\n",
    "cluster.reset()\n",
    "print(f\"{cluster_name} connected at {ip_address}\")\n",
    "cluster.identify()"
   ]
  },
  {
   "cell_type": "markdown",
   "metadata": {},
   "source": [
    "## Select Module in Device"
   ]
  },
  {
   "cell_type": "code",
   "execution_count": 82,
   "metadata": {
    "tags": []
   },
   "outputs": [
    {
     "data": {
      "application/vnd.jupyter.widget-view+json": {
       "model_id": "42f38924f6934f3eadd2c20606a3c899",
       "version_major": 2,
       "version_minor": 0
      },
      "text/plain": [
       "Dropdown(options=('module1', 'module2', 'module3', 'module4', 'module5', 'module6', 'module7', 'module8', 'mod…"
      ]
     },
     "metadata": {},
     "output_type": "display_data"
    }
   ],
   "source": [
    "# Find all QRM/QCM modules\n",
    "cluster.reset()\n",
    "available_slots = {}\n",
    "for module in cluster.modules:\n",
    "    # if module is currently present in stack\n",
    "    if cluster._get_modules_present(module.slot_idx):\n",
    "        # check if QxM is RF or baseband\n",
    "        if module.is_rf_type:\n",
    "            available_slots[f\"module{module.slot_idx}\"] = [\"QCM-RF\", \"QRM-RF\"][\n",
    "                module.is_qrm_type\n",
    "            ]\n",
    "        else:\n",
    "            available_slots[f\"module{module.slot_idx}\"] = [\"QCM\", \"QRM\"][\n",
    "                module.is_qrm_type\n",
    "            ]\n",
    "\n",
    "# List of all QxM modules present\n",
    "connect_qxm = widgets.Dropdown(options=[key for key in available_slots.keys()])\n",
    "display(connect_qxm)"
   ]
  },
  {
   "cell_type": "code",
   "execution_count": 83,
   "metadata": {
    "scrolled": true,
    "tags": []
   },
   "outputs": [
    {
     "name": "stdout",
     "output_type": "stream",
     "text": [
      "module16\n",
      "QRM-RF connected\n",
      "Status: OKAY, Flags: NONE, Slot flags: NONE\n"
     ]
    }
   ],
   "source": [
    "# Connect to the cluster QxM module\n",
    "module = connect_qxm.value\n",
    "print(module)\n",
    "qxm = getattr(cluster, module)\n",
    "print(f\"{available_slots[connect_qxm.value]} connected\")\n",
    "print(cluster.get_system_status())"
   ]
  },
  {
   "cell_type": "code",
   "execution_count": 84,
   "metadata": {},
   "outputs": [],
   "source": [
    "# qxm.out1_att(30) is this needed for QCMRF , QRMRF without demodulator?"
   ]
  },
  {
   "cell_type": "markdown",
   "metadata": {},
   "source": [
    "## Select complex output"
   ]
  },
  {
   "cell_type": "code",
   "execution_count": 85,
   "metadata": {
    "scrolled": true,
    "tags": []
   },
   "outputs": [
    {
     "data": {
      "application/vnd.jupyter.widget-view+json": {
       "model_id": "5098185792294c2e828803353e135873",
       "version_major": 2,
       "version_minor": 0
      },
      "text/plain": [
       "Dropdown(options=('disconnect', 'out0'), value='disconnect')"
      ]
     },
     "metadata": {},
     "output_type": "display_data"
    }
   ],
   "source": [
    "outputs = set(map(lambda i: i.split(\"_\")[0], filter(lambda k: \"out\" in k and (not k.startswith(\"_\")), dir(qxm))))\n",
    "select_out = widgets.Dropdown(options = [key for key in outputs])\n",
    "display(select_out)"
   ]
  },
  {
   "cell_type": "code",
   "execution_count": 96,
   "metadata": {
    "tags": []
   },
   "outputs": [
    {
     "name": "stdout",
     "output_type": "stream",
     "text": [
      "average_RO_freq = np.float64(6967768377.797956)\n"
     ]
    }
   ],
   "source": [
    "ReadOut_target_frequencies = {\n",
    "    \"q06\": 6832073301.189378,\n",
    "    \"q07\": 7080671753.192583,\n",
    "    \"q08\": 6397230987.533971,\n",
    "    \"q09\": 7276184309.188224,\n",
    "    \"q10\": 7252681537.885626,\n",
    "}\n",
    "average_RO_freq = np.mean(list(ReadOut_target_frequencies.values()))\n",
    "LO_ReadOut = average_RO_freq - 100e6\n",
    "print(f'{average_RO_freq = }')\n",
    "# qb_freq = np.array([3.69374\t,3.34177\t,3.5669\t,3.30677\t,3.85258\t,3.16559\t,3.90661\t,3.22831\t,3.89478\t,3.31304,3.74806\t,3.30409\t,3.88604\t,3.25294\t,3.98161\n",
    "# ])*1e9\n",
    "# lo = qb_freq + 100e6\n",
    "# lo_list = [print(i) for i in enumerate(lo)]"
   ]
  },
  {
   "cell_type": "code",
   "execution_count": 97,
   "metadata": {},
   "outputs": [],
   "source": [
    "lo_frequency = LO_ReadOut"
   ]
  },
  {
   "cell_type": "code",
   "execution_count": 98,
   "metadata": {
    "tags": []
   },
   "outputs": [],
   "source": [
    "# lo_frequency = float(input(f\"Enter desired LO frequency (Hz) for '{select_out.value}': \"))\n",
    "# lo_frequency = 3.5e9\n",
    "if qxm.module_type.name == \"QRM\":\n",
    "    # qrms only have one complex output\n",
    "    qxm.out0_in0_lo_en(True)\n",
    "    qxm.out0_in0_lo_freq(lo_frequency)\n",
    "else:\n",
    "    lo_en = getattr(qxm, f\"{select_out.value}_lo_en\")\n",
    "    lo_freq = getattr(qxm, f\"{select_out.value}_lo_freq\")\n",
    "    lo_en(True)\n",
    "    lo_freq(lo_frequency)"
   ]
  },
  {
   "cell_type": "markdown",
   "metadata": {},
   "source": [
    "## Select Sequencer in Module"
   ]
  },
  {
   "cell_type": "code",
   "execution_count": 99,
   "metadata": {
    "tags": []
   },
   "outputs": [
    {
     "data": {
      "application/vnd.jupyter.widget-view+json": {
       "model_id": "f7324387211d4c53b97d82bf15d47e88",
       "version_major": 2,
       "version_minor": 0
      },
      "text/plain": [
       "Dropdown(options=('sequencer0', 'sequencer1', 'sequencer2', 'sequencer3', 'sequencer4', 'sequencer5'), value='…"
      ]
     },
     "metadata": {},
     "output_type": "display_data"
    }
   ],
   "source": [
    "qxm.stop_sequencer()\n",
    "sequencers = { k : getattr(qxm, k) for k in filter(lambda a: a.startswith(\"sequencer\") and (a != \"sequencers\"), dir(qxm)) }\n",
    "select_seq = widgets.Dropdown(options = [key for key in sequencers.keys()])\n",
    "display(select_seq)"
   ]
  },
  {
   "cell_type": "markdown",
   "metadata": {},
   "source": [
    "## Upload program to sequencer"
   ]
  },
  {
   "cell_type": "code",
   "execution_count": 126,
   "metadata": {
    "tags": []
   },
   "outputs": [
    {
     "name": "stdout",
     "output_type": "stream",
     "text": [
      "MY_IF = np.float64(384913160.0876694)\n"
     ]
    }
   ],
   "source": [
    "seq = sequencers[select_seq.value]\n",
    "qubit = 'q10'\n",
    "MY_IF = ReadOut_target_frequencies[qubit] - LO_ReadOut\n",
    "seq.nco_freq(MY_IF)\n",
    "print(f'{MY_IF = }')\n",
    "# seq.nco_freq(MY_IF := float(input(\"ENTER IF: \")))   # using 10 MHz IF"
   ]
  },
  {
   "cell_type": "code",
   "execution_count": 128,
   "metadata": {},
   "outputs": [
    {
     "name": "stdout",
     "output_type": "stream",
     "text": [
      "384.9131600876694 MHz\n",
      "loki_cluster_module16_sequencer0\n"
     ]
    }
   ],
   "source": [
    "seq.sequence(os.path.join(os.getcwd(), \"sequence.json\"))\n",
    "seq.mod_en_awg(True)\n",
    "print(f'{MY_IF / 1e6} MHz' )\n",
    "print(seq.name)"
   ]
  },
  {
   "cell_type": "markdown",
   "metadata": {},
   "source": [
    "## Control sliders"
   ]
  },
  {
   "cell_type": "code",
   "execution_count": 129,
   "metadata": {},
   "outputs": [],
   "source": [
    "seq.connect_out0('IQ')\n",
    "# The following does not apply for QRMRF modules\n",
    "# seq.connect_out1('off')\n",
    "# The following two apply to baseband modules not RF modules\n",
    "# seq.connect_out2('off')\n",
    "# seq.connect_out3('off')\n",
    "\n",
    "seq.gain_awg_path0(1)\n",
    "seq.gain_awg_path1(1)"
   ]
  },
  {
   "cell_type": "code",
   "execution_count": 130,
   "metadata": {},
   "outputs": [],
   "source": [
    "# Expect to see the tones on the spectrum analyzer when this cell is run\n",
    "qxm.arm_sequencer(seq.seq_idx)\n",
    "qxm.start_sequencer(seq.seq_idx)"
   ]
  },
  {
   "cell_type": "code",
   "execution_count": 131,
   "metadata": {
    "tags": []
   },
   "outputs": [
    {
     "data": {
      "text/html": [
       "<pre style=\"white-space:pre;overflow-x:auto;line-height:normal;font-family:Menlo,'DejaVu Sans Mono',consolas,'Courier New',monospace\"><span style=\"color: #008080; text-decoration-color: #008080; font-weight: bold\">1</span>.      Connect complex output <span style=\"color: #008000; text-decoration-color: #008000\">'out0'</span> of cluster <span style=\"color: #008000; text-decoration-color: #008000\">'loki_cluster'</span> module <span style=\"color: #008000; text-decoration-color: #008000\">'module16'</span> to a spectrum analyser.\n",
       "</pre>\n"
      ],
      "text/plain": [
       "\u001b[1;36m1\u001b[0m.      Connect complex output \u001b[32m'out0'\u001b[0m of cluster \u001b[32m'loki_cluster'\u001b[0m module \u001b[32m'module16'\u001b[0m to a spectrum analyser.\n"
      ]
     },
     "metadata": {},
     "output_type": "display_data"
    },
    {
     "data": {
      "text/html": [
       "<pre style=\"white-space:pre;overflow-x:auto;line-height:normal;font-family:Menlo,'DejaVu Sans Mono',consolas,'Courier New',monospace\"><span style=\"color: #008080; text-decoration-color: #008080; font-weight: bold\">2</span>.      In the spectrum analyser, set the center frequency to <span style=\"color: #008080; text-decoration-color: #008080; font-weight: bold\">6.867768377797956</span> GHz\n",
       "</pre>\n"
      ],
      "text/plain": [
       "\u001b[1;36m2\u001b[0m.      In the spectrum analyser, set the center frequency to \u001b[1;36m6.867768377797956\u001b[0m GHz\n"
      ]
     },
     "metadata": {},
     "output_type": "display_data"
    },
    {
     "data": {
      "text/html": [
       "<pre style=\"white-space:pre;overflow-x:auto;line-height:normal;font-family:Menlo,'DejaVu Sans Mono',consolas,'Courier New',monospace\"><span style=\"color: #008080; text-decoration-color: #008080; font-weight: bold\">3</span>.      Adjust the gain ratio and phase offset sliders until the LSB is gone.\n",
       "</pre>\n"
      ],
      "text/plain": [
       "\u001b[1;36m3\u001b[0m.      Adjust the gain ratio and phase offset sliders until the LSB is gone.\n"
      ]
     },
     "metadata": {},
     "output_type": "display_data"
    },
    {
     "data": {
      "text/html": [
       "<pre style=\"white-space:pre;overflow-x:auto;line-height:normal;font-family:Menlo,'DejaVu Sans Mono',consolas,'Courier New',monospace\"><span style=\"color: #008080; text-decoration-color: #008080; font-weight: bold\">4</span>.      Adjust the I and Q offsets until the LO peak dissapears.\n",
       "</pre>\n"
      ],
      "text/plain": [
       "\u001b[1;36m4\u001b[0m.      Adjust the I and Q offsets until the LO peak dissapears.\n"
      ]
     },
     "metadata": {},
     "output_type": "display_data"
    },
    {
     "data": {
      "text/html": [
       "<pre style=\"white-space:pre;overflow-x:auto;line-height:normal;font-family:Menlo,'DejaVu Sans Mono',consolas,'Courier New',monospace\"><span style=\"color: #008080; text-decoration-color: #008080; font-weight: bold\">5</span>.      When only RSB is visible in the spectrum analyser, save the calibration with the last cell.\n",
       "</pre>\n"
      ],
      "text/plain": [
       "\u001b[1;36m5\u001b[0m.      When only RSB is visible in the spectrum analyser, save the calibration with the last cell.\n"
      ]
     },
     "metadata": {},
     "output_type": "display_data"
    },
    {
     "data": {
      "application/vnd.jupyter.widget-view+json": {
       "model_id": "11f642566387430aa25a1dfc64b9d4fd",
       "version_major": 2,
       "version_minor": 0
      },
      "text/plain": [
       "interactive(children=(FloatSlider(value=-3.0245, description='offset_I', layout=Layout(width='95%'), max=20.0,…"
      ]
     },
     "metadata": {},
     "output_type": "display_data"
    },
    {
     "data": {
      "application/vnd.jupyter.widget-view+json": {
       "model_id": "1aabd9c1a23d4479a4cc65c8344f185b",
       "version_major": 2,
       "version_minor": 0
      },
      "text/plain": [
       "interactive(children=(FloatSlider(value=-5.3719, description='offset_Q', layout=Layout(width='95%'), max=20.0,…"
      ]
     },
     "metadata": {},
     "output_type": "display_data"
    },
    {
     "data": {
      "application/vnd.jupyter.widget-view+json": {
       "model_id": "e43e45aa0a494c2fa60e99ef453fe0c7",
       "version_major": 2,
       "version_minor": 0
      },
      "text/plain": [
       "interactive(children=(FloatSlider(value=0.999, description='gain_ratio', layout=Layout(width='95%'), max=2.0, …"
      ]
     },
     "metadata": {},
     "output_type": "display_data"
    },
    {
     "data": {
      "application/vnd.jupyter.widget-view+json": {
       "model_id": "83ce2005ce8449cfbdfa20cedb9f1e93",
       "version_major": 2,
       "version_minor": 0
      },
      "text/plain": [
       "interactive(children=(FloatSlider(value=0.0, description='phase_offset', layout=Layout(width='95%'), max=45.0,…"
      ]
     },
     "metadata": {},
     "output_type": "display_data"
    },
    {
     "data": {
      "text/plain": [
       "<function __main__.set_phase_offset(phase_offset)>"
      ]
     },
     "execution_count": 131,
     "metadata": {},
     "output_type": "execute_result"
    }
   ],
   "source": [
    "rich.print(f\"1.\\tConnect complex output '{select_out.value}' of cluster '{cluster_name}' module '{module}' to a spectrum analyser.\")\n",
    "rich.print(f\"2.\\tIn the spectrum analyser, set the center frequency to {lo_frequency/1e9} GHz\")\n",
    "rich.print(f\"3.\\tAdjust the gain ratio and phase offset sliders until the LSB is gone.\")\n",
    "rich.print(f\"4.\\tAdjust the I and Q offsets until the LO peak dissapears.\")\n",
    "rich.print(f\"5.\\tWhen only RSB is visible in the spectrum analyser, save the calibration with the last cell.\")\n",
    "\n",
    "calibrated_values = [ - 3.0245, - 5.3719,0.999,0] if seq.seq_idx == 0 else calibration.loc[len(calibration)-1][-4:].values.tolist() # storage array\n",
    "#calibrated_values = [-0.004462799999999999*1000, -0.0097599*1000, 0.9824, -5.3845]\n",
    "\n",
    "def set_offset_I(offset_I):\n",
    "    if qxm.module_type.name == \"QRM\":\n",
    "        qxm.out0_offset_path0(offset_I) # qrm have only one output\n",
    "    # elif qxm.module_type.name == \"QCM\":\n",
    "    #     seq.offset_awg_path0(offset_I)\n",
    "    else:\n",
    "        #print(f\"{select_out.value}_offset_path0\")\n",
    "        offset_path0 = getattr(qxm, f\"{select_out.value}_offset_path0\")\n",
    "        offset_path0(offset_I)\n",
    "\n",
    "    qxm.arm_sequencer(seq.seq_idx)\n",
    "    qxm.start_sequencer(seq.seq_idx)\n",
    "    calibrated_values[0] = offset_I\n",
    "\n",
    "def set_offset_Q(offset_Q):\n",
    "    if qxm.module_type.name == \"QRM\":\n",
    "        qxm.out0_offset_path1(offset_Q) # qrm have only one output\n",
    "    # elif qxm.module_type.name == \"QCM\":\n",
    "    #     seq.offset_awg_path1(offset_Q)\n",
    "    else:\n",
    "        offset_path1 = getattr(qxm, f\"{select_out.value}_offset_path1\")\n",
    "        offset_path1(offset_Q)\n",
    "        \n",
    "    qxm.arm_sequencer(seq.seq_idx)\n",
    "    qxm.start_sequencer(seq.seq_idx)\n",
    "    calibrated_values[1] = offset_Q\n",
    "\n",
    "def set_gain_ratio(gain_ratio):\n",
    "    seq.mixer_corr_gain_ratio(gain_ratio)\n",
    "    qxm.arm_sequencer(seq.seq_idx)\n",
    "    qxm.start_sequencer(seq.seq_idx)\n",
    "    calibrated_values[2] = gain_ratio\n",
    "\n",
    "def set_phase_offset(phase_offset):\n",
    "    seq.mixer_corr_phase_offset_degree(phase_offset)\n",
    "    qxm.arm_sequencer(seq.seq_idx)\n",
    "    qxm.start_sequencer(seq.seq_idx)\n",
    "    calibrated_values[3] = phase_offset\n",
    "\n",
    "interact(\n",
    "    set_offset_I, offset_I=widgets.FloatSlider(min=-20.0, max=20.0, step=0.0001, value=calibrated_values[0], readout_format='.4f', layout=widgets.Layout(width='95%' ))\n",
    ")\n",
    "interact(\n",
    "    set_offset_Q, offset_Q=widgets.FloatSlider(min=-20.0, max=20.0, step=0.0001, value=calibrated_values[1], readout_format='.4f', layout=widgets.Layout(width='95%' ))\n",
    ")\n",
    "interact(\n",
    "    set_gain_ratio,\n",
    "    gain_ratio=widgets.FloatSlider(min=0.5, max=2.0, step=0.0001, value=calibrated_values[2], readout_format='.4f', layout=widgets.Layout(width='95%' )),\n",
    ")\n",
    "interact(\n",
    "    set_phase_offset,\n",
    "    phase_offset=widgets.FloatSlider(min=-45.0, max=45.0, step=0.00001, value=calibrated_values[3], readout_format='.4f', layout=widgets.Layout(width='95%' )),\n",
    ")"
   ]
  },
  {
   "cell_type": "code",
   "execution_count": 132,
   "metadata": {
    "tags": []
   },
   "outputs": [
    {
     "data": {
      "text/html": [
       "<div>\n",
       "<style scoped>\n",
       "    .dataframe tbody tr th:only-of-type {\n",
       "        vertical-align: middle;\n",
       "    }\n",
       "\n",
       "    .dataframe tbody tr th {\n",
       "        vertical-align: top;\n",
       "    }\n",
       "\n",
       "    .dataframe thead th {\n",
       "        text-align: right;\n",
       "    }\n",
       "</style>\n",
       "<table border=\"1\" class=\"dataframe\">\n",
       "  <thead>\n",
       "    <tr style=\"text-align: right;\">\n",
       "      <th></th>\n",
       "      <th>module</th>\n",
       "      <th>complex_output</th>\n",
       "      <th>sequencer index</th>\n",
       "      <th>lo_freq (Hz)</th>\n",
       "      <th>if (Hz)</th>\n",
       "      <th>dc_mixer_offset_I</th>\n",
       "      <th>dc_mixer_offset_Q</th>\n",
       "      <th>mixer_amp_ratio</th>\n",
       "      <th>mixer_phase_error_deg</th>\n",
       "    </tr>\n",
       "  </thead>\n",
       "  <tbody>\n",
       "    <tr>\n",
       "      <th>0</th>\n",
       "      <td>module16</td>\n",
       "      <td>out0</td>\n",
       "      <td>0</td>\n",
       "      <td>6.967768e+09</td>\n",
       "      <td>-1.356951e+08</td>\n",
       "      <td>-4.6947</td>\n",
       "      <td>-4.4690</td>\n",
       "      <td>0.9994</td>\n",
       "      <td>10.76628</td>\n",
       "    </tr>\n",
       "    <tr>\n",
       "      <th>1</th>\n",
       "      <td>module16</td>\n",
       "      <td>out0</td>\n",
       "      <td>0</td>\n",
       "      <td>6.967768e+09</td>\n",
       "      <td>1.129034e+08</td>\n",
       "      <td>-4.6947</td>\n",
       "      <td>-4.4690</td>\n",
       "      <td>1.0362</td>\n",
       "      <td>11.47726</td>\n",
       "    </tr>\n",
       "    <tr>\n",
       "      <th>2</th>\n",
       "      <td>module16</td>\n",
       "      <td>out0</td>\n",
       "      <td>0</td>\n",
       "      <td>6.867768e+09</td>\n",
       "      <td>-3.569508e+07</td>\n",
       "      <td>-3.0245</td>\n",
       "      <td>-5.3719</td>\n",
       "      <td>1.0125</td>\n",
       "      <td>11.68040</td>\n",
       "    </tr>\n",
       "    <tr>\n",
       "      <th>3</th>\n",
       "      <td>module16</td>\n",
       "      <td>out0</td>\n",
       "      <td>0</td>\n",
       "      <td>6.867768e+09</td>\n",
       "      <td>2.129034e+08</td>\n",
       "      <td>-3.0245</td>\n",
       "      <td>-5.3719</td>\n",
       "      <td>0.9787</td>\n",
       "      <td>11.88353</td>\n",
       "    </tr>\n",
       "    <tr>\n",
       "      <th>4</th>\n",
       "      <td>module16</td>\n",
       "      <td>out0</td>\n",
       "      <td>0</td>\n",
       "      <td>6.867768e+09</td>\n",
       "      <td>-4.705374e+08</td>\n",
       "      <td>-3.0245</td>\n",
       "      <td>-5.3719</td>\n",
       "      <td>0.9990</td>\n",
       "      <td>13.00079</td>\n",
       "    </tr>\n",
       "    <tr>\n",
       "      <th>5</th>\n",
       "      <td>module16</td>\n",
       "      <td>out0</td>\n",
       "      <td>0</td>\n",
       "      <td>6.867768e+09</td>\n",
       "      <td>4.084159e+08</td>\n",
       "      <td>-3.0245</td>\n",
       "      <td>-5.3719</td>\n",
       "      <td>1.0193</td>\n",
       "      <td>9.54746</td>\n",
       "    </tr>\n",
       "    <tr>\n",
       "      <th>6</th>\n",
       "      <td>module16</td>\n",
       "      <td>out0</td>\n",
       "      <td>0</td>\n",
       "      <td>6.867768e+09</td>\n",
       "      <td>3.849132e+08</td>\n",
       "      <td>-3.0245</td>\n",
       "      <td>-5.3719</td>\n",
       "      <td>1.0159</td>\n",
       "      <td>9.14118</td>\n",
       "    </tr>\n",
       "  </tbody>\n",
       "</table>\n",
       "</div>"
      ],
      "text/plain": [
       "     module complex_output  sequencer index  lo_freq (Hz)       if (Hz)  \\\n",
       "0  module16           out0                0  6.967768e+09 -1.356951e+08   \n",
       "1  module16           out0                0  6.967768e+09  1.129034e+08   \n",
       "2  module16           out0                0  6.867768e+09 -3.569508e+07   \n",
       "3  module16           out0                0  6.867768e+09  2.129034e+08   \n",
       "4  module16           out0                0  6.867768e+09 -4.705374e+08   \n",
       "5  module16           out0                0  6.867768e+09  4.084159e+08   \n",
       "6  module16           out0                0  6.867768e+09  3.849132e+08   \n",
       "\n",
       "   dc_mixer_offset_I  dc_mixer_offset_Q  mixer_amp_ratio  \\\n",
       "0            -4.6947            -4.4690           0.9994   \n",
       "1            -4.6947            -4.4690           1.0362   \n",
       "2            -3.0245            -5.3719           1.0125   \n",
       "3            -3.0245            -5.3719           0.9787   \n",
       "4            -3.0245            -5.3719           0.9990   \n",
       "5            -3.0245            -5.3719           1.0193   \n",
       "6            -3.0245            -5.3719           1.0159   \n",
       "\n",
       "   mixer_phase_error_deg  \n",
       "0               10.76628  \n",
       "1               11.47726  \n",
       "2               11.68040  \n",
       "3               11.88353  \n",
       "4               13.00079  \n",
       "5                9.54746  \n",
       "6                9.14118  "
      ]
     },
     "execution_count": 132,
     "metadata": {},
     "output_type": "execute_result"
    }
   ],
   "source": [
    "calibration.loc[len(calibration)] = [module, select_out.value, seq.seq_idx, lo_frequency, MY_IF, *tuple(calibrated_values)]\n",
    "calibration"
   ]
  },
  {
   "cell_type": "code",
   "execution_count": 35,
   "metadata": {
    "tags": []
   },
   "outputs": [],
   "source": [
    "calibration.to_csv(\"mixercorrectionLokeA25QFL.csv\")"
   ]
  },
  {
   "cell_type": "code",
   "execution_count": 69,
   "metadata": {
    "tags": []
   },
   "outputs": [],
   "source": [
    "cluster.reset()"
   ]
  },
  {
   "cell_type": "code",
   "execution_count": null,
   "metadata": {},
   "outputs": [],
   "source": []
  }
 ],
 "metadata": {
  "interpreter": {
   "hash": "31f2aee4e71d21fbe5cf8b01ff0e069b9275f58929596ceb00d14d90e3e16cd6"
  },
  "kernelspec": {
   "display_name": "Python 3 (ipykernel)",
   "language": "python",
   "name": "python3"
  },
  "language_info": {
   "codemirror_mode": {
    "name": "ipython",
    "version": 3
   },
   "file_extension": ".py",
   "mimetype": "text/x-python",
   "name": "python",
   "nbconvert_exporter": "python",
   "pygments_lexer": "ipython3",
   "version": "3.10.0"
  }
 },
 "nbformat": 4,
 "nbformat_minor": 4
}
