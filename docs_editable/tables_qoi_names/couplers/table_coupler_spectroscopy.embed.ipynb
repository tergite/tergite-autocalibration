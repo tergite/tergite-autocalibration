{
  "cells": [
    {
      "cell_type": "markdown",
      "metadata": {},
      "source": [
        "# \n",
        "\n",
        "| Redis QOI name            |\n",
        "|---------------------------|\n",
        "| resonator_crossing_points |\n",
        "| qubit_crossing_points     |\n",
        "\n",
        "Coupler spectroscopy"
      ],
      "id": "4ea472ff-9d05-498e-a0fc-24de86b7c35d"
    }
  ],
  "nbformat": 4,
  "nbformat_minor": 5,
  "metadata": {
    "kernelspec": {
      "display_name": "Python 3",
      "language": "python",
      "name": "python3"
    }
  }
}